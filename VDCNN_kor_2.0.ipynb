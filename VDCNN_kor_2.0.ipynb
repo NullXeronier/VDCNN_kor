{
 "cells": [
  {
   "cell_type": "markdown",
   "metadata": {},
   "source": [
    "### 1. package import"
   ]
  },
  {
   "cell_type": "code",
   "execution_count": 1,
   "metadata": {},
   "outputs": [],
   "source": [
    "import pandas as pd\n",
    "import numpy as np\n",
    "%matplotlib inline\n",
    "import matplotlib.pyplot as plt\n",
    "import re\n",
    "from tqdm import tqdm"
   ]
  },
  {
   "cell_type": "markdown",
   "metadata": {},
   "source": [
    "### 2. Data Wrangling"
   ]
  },
  {
   "cell_type": "code",
   "execution_count": 2,
   "metadata": {},
   "outputs": [],
   "source": [
    "train_data = pd.read_csv(\"./data_in/train.csv\").iloc[:, 1:].dropna(how = 'any')\n",
    "train_data.index = range(len(train_data))\n",
    "test_data = pd.read_csv(\"./data_in/test.csv\").iloc[:, 1:]\n",
    "submission = pd.read_csv(\"./data_in/sample_submission.csv\")"
   ]
  },
  {
   "cell_type": "code",
   "execution_count": 3,
   "metadata": {},
   "outputs": [
    {
     "data": {
      "text/plain": [
       "((39992, 2), (5000, 1))"
      ]
     },
     "execution_count": 3,
     "metadata": {},
     "output_type": "execute_result"
    }
   ],
   "source": [
    "train_data.shape, test_data.shape"
   ]
  },
  {
   "cell_type": "code",
   "execution_count": 4,
   "metadata": {},
   "outputs": [],
   "source": [
    "train_data['data'] = train_data['data'].str.replace(\"[^ㄱ-ㅎㅏ-ㅣ가-힣 ]\",\"\")"
   ]
  },
  {
   "cell_type": "code",
   "execution_count": 5,
   "metadata": {},
   "outputs": [
    {
     "name": "stdout",
     "output_type": "stream",
     "text": [
      "category    0\n",
      "data        0\n",
      "dtype: int64\n"
     ]
    }
   ],
   "source": [
    "train_data['data'].replace('', np.nan, inplace=True)\n",
    "print(train_data.isnull().sum())"
   ]
  },
  {
   "cell_type": "code",
   "execution_count": 6,
   "metadata": {},
   "outputs": [
    {
     "data": {
      "text/html": [
       "<div>\n",
       "<style scoped>\n",
       "    .dataframe tbody tr th:only-of-type {\n",
       "        vertical-align: middle;\n",
       "    }\n",
       "\n",
       "    .dataframe tbody tr th {\n",
       "        vertical-align: top;\n",
       "    }\n",
       "\n",
       "    .dataframe thead th {\n",
       "        text-align: right;\n",
       "    }\n",
       "</style>\n",
       "<table border=\"1\" class=\"dataframe\">\n",
       "  <thead>\n",
       "    <tr style=\"text-align: right;\">\n",
       "      <th></th>\n",
       "      <th>category</th>\n",
       "      <th>data</th>\n",
       "    </tr>\n",
       "  </thead>\n",
       "  <tbody>\n",
       "  </tbody>\n",
       "</table>\n",
       "</div>"
      ],
      "text/plain": [
       "Empty DataFrame\n",
       "Columns: [category, data]\n",
       "Index: []"
      ]
     },
     "execution_count": 6,
     "metadata": {},
     "output_type": "execute_result"
    }
   ],
   "source": [
    "train_data.loc[train_data.data.isnull()][:5]"
   ]
  },
  {
   "cell_type": "code",
   "execution_count": 7,
   "metadata": {},
   "outputs": [
    {
     "name": "stdout",
     "output_type": "stream",
     "text": [
      "39992\n"
     ]
    }
   ],
   "source": [
    "train_data = train_data.dropna(how = 'any')\n",
    "print(len(train_data))"
   ]
  },
  {
   "cell_type": "code",
   "execution_count": 8,
   "metadata": {},
   "outputs": [
    {
     "name": "stdout",
     "output_type": "stream",
     "text": [
      "전처리 후 테스트용 샘플의 개수 : 5000\n"
     ]
    }
   ],
   "source": [
    "# test_data.drop_duplicates(subset = ['data'], inplace=True) # document 열에서 중복인 내용이 있다면 중복 제거\n",
    "test_data['data'] = test_data['data'].str.replace(\"[^ㄱ-ㅎㅏ-ㅣ가-힣 ]\",\"\") # 한글 이외 삭제\n",
    "# test_data['data'].replace('', np.nan, inplace=True) # 공백은 Null 값으로 변경\n",
    "# test_data = test_data.dropna(how='any') # Null 값 제거\n",
    "print('전처리 후 테스트용 샘플의 개수 :',len(test_data['data']))"
   ]
  },
  {
   "cell_type": "markdown",
   "metadata": {},
   "source": [
    "### Mecab Tokenizing"
   ]
  },
  {
   "cell_type": "code",
   "execution_count": 9,
   "metadata": {},
   "outputs": [],
   "source": [
    "from konlpy.tag import Mecab\n",
    "mecab = Mecab()"
   ]
  },
  {
   "cell_type": "code",
   "execution_count": 10,
   "metadata": {},
   "outputs": [],
   "source": [
    "stop_words = ['의','가','이','은','들','는','좀','잘','걍','과','도','를','으로','자','에','와','한','하다','을']"
   ]
  },
  {
   "cell_type": "markdown",
   "metadata": {},
   "source": [
    "### Take nouns by Mecab"
   ]
  },
  {
   "cell_type": "code",
   "execution_count": 11,
   "metadata": {},
   "outputs": [
    {
     "name": "stderr",
     "output_type": "stream",
     "text": [
      "100%|██████████| 39992/39992 [00:57<00:00, 700.36it/s]\n"
     ]
    }
   ],
   "source": [
    "X_train = []\n",
    "\n",
    "text = list(train_data['data'])\n",
    "\n",
    "for i in tqdm(range(len(text))):\n",
    "  temp_X = []\n",
    "  temp_X = mecab.nouns(text[i]) # 토큰화\n",
    "  temp_X = [word for word in temp_X if not word in stop_words] # 불용어 제거\n",
    "  temp_X = [word for word in temp_X if len(word) > 1]\n",
    "  X_train.append(temp_X)"
   ]
  },
  {
   "cell_type": "code",
   "execution_count": 12,
   "metadata": {},
   "outputs": [
    {
     "name": "stderr",
     "output_type": "stream",
     "text": [
      "100%|██████████| 5000/5000 [00:07<00:00, 705.42it/s]\n"
     ]
    }
   ],
   "source": [
    "X_test = []\n",
    "\n",
    "text = list(test_data['data'])\n",
    "\n",
    "for i in tqdm(range(len(text))):\n",
    "  temp_X = []\n",
    "  temp_X = mecab.nouns(text[i]) # 토큰화\n",
    "  temp_X = [word for word in temp_X if not word in stop_words] # 불용어 제거\n",
    "  # temp_X = [word for word in temp_X if len(word) > 1]\n",
    "  X_test.append(temp_X)"
   ]
  },
  {
   "cell_type": "code",
   "execution_count": 13,
   "metadata": {},
   "outputs": [],
   "source": [
    "from tensorflow.keras.preprocessing.text import Tokenizer\n",
    "from tensorflow.keras.utils import to_categorical\n",
    "from tensorflow.keras.layers import *\n",
    "from tensorflow.keras.models import Sequential, load_model, Model\n",
    "from tensorflow.keras.callbacks import EarlyStopping, ModelCheckpoint,  ReduceLROnPlateau\n",
    "from tensorflow.keras.regularizers import *\n",
    "from tensorflow.keras.preprocessing.sequence import pad_sequences\n",
    "from tensorflow.keras.optimizers import Adam, RMSprop\n",
    "import tensorflow.keras.backend as K"
   ]
  },
  {
   "cell_type": "code",
   "execution_count": 14,
   "metadata": {},
   "outputs": [],
   "source": [
    "tokenizer = Tokenizer()\n",
    "tokenizer.fit_on_texts(X_train)"
   ]
  },
  {
   "cell_type": "code",
   "execution_count": 15,
   "metadata": {},
   "outputs": [
    {
     "name": "stdout",
     "output_type": "stream",
     "text": [
      "단어 집합(vocabulary)의 크기 : 45833\n",
      "등장 빈도가 10번 이하인 희귀 단어의 수: 33115\n",
      "단어 집합에서 희귀 단어의 비율: 72.25143455588768\n",
      "전체 등장 빈도에서 희귀 단어 등장 빈도 비율: 3.134287559411337\n"
     ]
    }
   ],
   "source": [
    "threshold = 11\n",
    "total_cnt = len(tokenizer.word_index) # 단어의 수\n",
    "rare_cnt = 0 # 등장 빈도수가 threshold보다 작은 단어의 개수를 카운트\n",
    "total_freq = 0 # 훈련 데이터의 전체 단어 빈도수 총 합\n",
    "rare_freq = 0 # 등장 빈도수가 threshold보다 작은 단어의 등장 빈도수의 총 합\n",
    "\n",
    "# 단어와 빈도수의 쌍(pair)을 key와 value로 받는다.\n",
    "for key, value in tokenizer.word_counts.items():\n",
    "    total_freq = total_freq + value\n",
    "\n",
    "    # 단어의 등장 빈도수가 threshold보다 작으면\n",
    "    if(value < threshold):\n",
    "        rare_cnt = rare_cnt + 1\n",
    "        rare_freq = rare_freq + value\n",
    "\n",
    "print('단어 집합(vocabulary)의 크기 :',total_cnt)\n",
    "print('등장 빈도가 %s번 이하인 희귀 단어의 수: %s'%(threshold - 1, rare_cnt))\n",
    "print(\"단어 집합에서 희귀 단어의 비율:\", (rare_cnt / total_cnt)*100)\n",
    "print(\"전체 등장 빈도에서 희귀 단어 등장 빈도 비율:\", (rare_freq / total_freq)*100)"
   ]
  },
  {
   "cell_type": "code",
   "execution_count": 16,
   "metadata": {},
   "outputs": [
    {
     "name": "stdout",
     "output_type": "stream",
     "text": [
      "단어 집합의 크기 : 12719\n"
     ]
    }
   ],
   "source": [
    "vocab_size = total_cnt - rare_cnt + 1 # 전체 단어 개수 중 빈도수 2이하인 단어 개수는 제거. 0번 패딩 토큰을 고려하여 +1\n",
    "print('단어 집합의 크기 :',vocab_size)"
   ]
  },
  {
   "cell_type": "code",
   "execution_count": 17,
   "metadata": {},
   "outputs": [],
   "source": [
    "tokenizer = Tokenizer(num_words = 2048) # num_words = vocab_size\n",
    "tokenizer.fit_on_texts(X_train)\n",
    "token_X_train = tokenizer.texts_to_sequences(X_train)\n",
    "token_X_test = tokenizer.texts_to_sequences(X_test)"
   ]
  },
  {
   "cell_type": "code",
   "execution_count": 18,
   "metadata": {},
   "outputs": [],
   "source": [
    "y_train = to_categorical(np.array(train_data['category']))"
   ]
  },
  {
   "cell_type": "code",
   "execution_count": 19,
   "metadata": {},
   "outputs": [],
   "source": [
    "drop_train = [index for index, sentence in enumerate(token_X_train) if len(sentence) < 1]"
   ]
  },
  {
   "cell_type": "code",
   "execution_count": 20,
   "metadata": {},
   "outputs": [
    {
     "name": "stdout",
     "output_type": "stream",
     "text": [
      "39926\n",
      "39926\n"
     ]
    },
    {
     "name": "stderr",
     "output_type": "stream",
     "text": [
      "/home/ubuntu/anaconda3/envs/TF2_37/lib/python3.7/site-packages/numpy/core/_asarray.py:83: VisibleDeprecationWarning: Creating an ndarray from ragged nested sequences (which is a list-or-tuple of lists-or-tuples-or ndarrays with different lengths or shapes) is deprecated. If you meant to do this, you must specify 'dtype=object' when creating the ndarray\n",
      "  return array(a, dtype, copy=False, order=order)\n"
     ]
    }
   ],
   "source": [
    "# 빈 샘플들을 제거\n",
    "del_X_train = np.delete(token_X_train, drop_train, axis=0)\n",
    "del_y_train = np.delete(y_train, drop_train, axis=0)\n",
    "print(len(del_X_train))\n",
    "print(len(del_y_train))"
   ]
  },
  {
   "cell_type": "code",
   "execution_count": 21,
   "metadata": {},
   "outputs": [
    {
     "name": "stdout",
     "output_type": "stream",
     "text": [
      "train data의 최대 길이 : 4859\n",
      "train data의 평균 길이 : 57.76852176526574\n"
     ]
    },
    {
     "data": {
      "image/png": "[encoded data removed]",
      "text/plain": [
       "<Figure size 432x288 with 1 Axes>"
      ]
     },
     "metadata": {
      "needs_background": "light"
     },
     "output_type": "display_data"
    }
   ],
   "source": [
    "print('train data의 최대 길이 :',max(len(l) for l in del_X_train))\n",
    "print('train data의 평균 길이 :',sum(map(len, del_X_train))/len(del_X_train))\n",
    "plt.hist([len(s) for s in X_train], bins=50)\n",
    "plt.xlabel('length of samples')\n",
    "plt.ylabel('number of samples')\n",
    "plt.show()"
   ]
  },
  {
   "cell_type": "code",
   "execution_count": 22,
   "metadata": {},
   "outputs": [
    {
     "name": "stdout",
     "output_type": "stream",
     "text": [
      "test data의 최대 길이 :  3155\n",
      "test data의 평균 길이 :  57.2548\n"
     ]
    },
    {
     "data": {
      "image/png": "[encoded data removed]",
      "text/plain": [
       "<Figure size 432x288 with 1 Axes>"
      ]
     },
     "metadata": {
      "needs_background": "light"
     },
     "output_type": "display_data"
    }
   ],
   "source": [
    "print(\"test data의 최대 길이 : \", max(len(l) for l in token_X_test))\n",
    "print(\"test data의 평균 길이 : \", sum(map(len, token_X_test))/ len(token_X_test))\n",
    "plt.hist([len(s) for s in token_X_test], bins=50)\n",
    "plt.xlabel('length of Data')\n",
    "plt.ylabel('number of Data')\n",
    "plt.show()"
   ]
  },
  {
   "cell_type": "code",
   "execution_count": 23,
   "metadata": {},
   "outputs": [],
   "source": [
    "def below_threshold_len(max_len, nested_list):\n",
    "    cnt = 0\n",
    "    for s in nested_list:\n",
    "        if(len(s) <= max_len):\n",
    "            cnt = cnt + 1\n",
    "    print('전체 샘플 중 길이가 %s 이하인 샘플의 비율: %s'%(max_len, (cnt / len(nested_list))*100))"
   ]
  },
  {
   "cell_type": "code",
   "execution_count": 24,
   "metadata": {},
   "outputs": [
    {
     "name": "stdout",
     "output_type": "stream",
     "text": [
      "전체 샘플 중 길이가 2048 이하인 샘플의 비율: 99.99499073285578\n"
     ]
    }
   ],
   "source": [
    "max_len = 2048\n",
    "below_threshold_len(max_len, del_X_train)"
   ]
  },
  {
   "cell_type": "code",
   "execution_count": 25,
   "metadata": {},
   "outputs": [],
   "source": [
    "pad_X_train = pad_sequences(del_X_train, maxlen = max_len)\n",
    "pad_X_test = pad_sequences(token_X_test, maxlen = max_len)"
   ]
  },
  {
   "cell_type": "code",
   "execution_count": 26,
   "metadata": {},
   "outputs": [],
   "source": [
    "from k_maxpooling import *\n",
    "from vdcnn import *\n",
    "from datetime import datetime\n",
    "from sklearn.model_selection import train_test_split\n",
    "from tensorflow.keras.optimizers import *"
   ]
  },
  {
   "cell_type": "code",
   "execution_count": 27,
   "metadata": {},
   "outputs": [],
   "source": [
    "# pad_x_train, del_y_train // pad_X_test"
   ]
  },
  {
   "cell_type": "code",
   "execution_count": 28,
   "metadata": {},
   "outputs": [
    {
     "data": {
      "text/plain": [
       "array([], dtype=int32)"
      ]
     },
     "execution_count": 28,
     "metadata": {},
     "output_type": "execute_result"
    }
   ],
   "source": [
    "pad_X_train[pad_X_train>2048]"
   ]
  },
  {
   "cell_type": "code",
   "execution_count": 30,
   "metadata": {
    "scrolled": true
   },
   "outputs": [
    {
     "name": "stdout",
     "output_type": "stream",
     "text": [
      "(None, 2048)\n",
      "Model: \"VDCNN\"\n",
      "__________________________________________________________________________________________________\n",
      "Layer (type)                    Output Shape         Param #     Connected to                     \n",
      "==================================================================================================\n",
      "inputs (InputLayer)             [(None, 2048)]       0                                            \n",
      "__________________________________________________________________________________________________\n",
      "embedding_1 (Embedding)         (None, 2048, 256)    524288      inputs[0][0]                     \n",
      "__________________________________________________________________________________________________\n",
      "temp_conv (Conv1D)              (None, 2048, 64)     49216       embedding_1[0][0]                \n",
      "__________________________________________________________________________________________________\n",
      "conv1d_16 (Conv1D)              (None, 2048, 64)     12352       temp_conv[0][0]                  \n",
      "__________________________________________________________________________________________________\n",
      "batch_normalization_16 (BatchNo (None, 2048, 64)     256         conv1d_16[0][0]                  \n",
      "__________________________________________________________________________________________________\n",
      "activation_16 (Activation)      (None, 2048, 64)     0           batch_normalization_16[0][0]     \n",
      "__________________________________________________________________________________________________\n",
      "conv1d_17 (Conv1D)              (None, 2048, 64)     12352       activation_16[0][0]              \n",
      "__________________________________________________________________________________________________\n",
      "batch_normalization_17 (BatchNo (None, 2048, 64)     256         conv1d_17[0][0]                  \n",
      "__________________________________________________________________________________________________\n",
      "add_7 (Add)                     (None, 2048, 64)     0           batch_normalization_17[0][0]     \n",
      "                                                                 temp_conv[0][0]                  \n",
      "__________________________________________________________________________________________________\n",
      "activation_17 (Activation)      (None, 2048, 64)     0           add_7[0][0]                      \n",
      "__________________________________________________________________________________________________\n",
      "conv1d_18 (Conv1D)              (None, 2048, 64)     12352       activation_17[0][0]              \n",
      "__________________________________________________________________________________________________\n",
      "batch_normalization_18 (BatchNo (None, 2048, 64)     256         conv1d_18[0][0]                  \n",
      "__________________________________________________________________________________________________\n",
      "activation_18 (Activation)      (None, 2048, 64)     0           batch_normalization_18[0][0]     \n",
      "__________________________________________________________________________________________________\n",
      "conv1d_19 (Conv1D)              (None, 2048, 64)     12352       activation_18[0][0]              \n",
      "__________________________________________________________________________________________________\n",
      "batch_normalization_19 (BatchNo (None, 2048, 64)     256         conv1d_19[0][0]                  \n",
      "__________________________________________________________________________________________________\n",
      "shortcut_conv1d_1 (Conv1D)      (None, 1024, 64)     4160        activation_17[0][0]              \n",
      "__________________________________________________________________________________________________\n",
      "pool_1 (KMaxPooling)            (None, 1024, 64)     0           batch_normalization_19[0][0]     \n",
      "__________________________________________________________________________________________________\n",
      "shortcut_batch_normalization_1  (None, 1024, 64)     256         shortcut_conv1d_1[0][0]          \n",
      "__________________________________________________________________________________________________\n",
      "add_8 (Add)                     (None, 1024, 64)     0           pool_1[0][0]                     \n",
      "                                                                 shortcut_batch_normalization_1[0]\n",
      "__________________________________________________________________________________________________\n",
      "activation_19 (Activation)      (None, 1024, 64)     0           add_8[0][0]                      \n",
      "__________________________________________________________________________________________________\n",
      "1_1_conv_1 (Conv1D)             (None, 1024, 128)    8320        activation_19[0][0]              \n",
      "__________________________________________________________________________________________________\n",
      "1_1_batch_normalization_1 (Batc (None, 1024, 128)    512         1_1_conv_1[0][0]                 \n",
      "__________________________________________________________________________________________________\n",
      "conv1d_20 (Conv1D)              (None, 1024, 128)    49280       1_1_batch_normalization_1[0][0]  \n",
      "__________________________________________________________________________________________________\n",
      "batch_normalization_20 (BatchNo (None, 1024, 128)    512         conv1d_20[0][0]                  \n",
      "__________________________________________________________________________________________________\n",
      "activation_20 (Activation)      (None, 1024, 128)    0           batch_normalization_20[0][0]     \n",
      "__________________________________________________________________________________________________\n",
      "conv1d_21 (Conv1D)              (None, 1024, 128)    49280       activation_20[0][0]              \n",
      "__________________________________________________________________________________________________\n",
      "batch_normalization_21 (BatchNo (None, 1024, 128)    512         conv1d_21[0][0]                  \n",
      "__________________________________________________________________________________________________\n",
      "add_9 (Add)                     (None, 1024, 128)    0           batch_normalization_21[0][0]     \n",
      "                                                                 1_1_batch_normalization_1[0][0]  \n",
      "__________________________________________________________________________________________________\n",
      "activation_21 (Activation)      (None, 1024, 128)    0           add_9[0][0]                      \n",
      "__________________________________________________________________________________________________\n",
      "conv1d_22 (Conv1D)              (None, 1024, 128)    49280       activation_21[0][0]              \n",
      "__________________________________________________________________________________________________\n",
      "batch_normalization_22 (BatchNo (None, 1024, 128)    512         conv1d_22[0][0]                  \n",
      "__________________________________________________________________________________________________\n",
      "activation_22 (Activation)      (None, 1024, 128)    0           batch_normalization_22[0][0]     \n",
      "__________________________________________________________________________________________________\n",
      "conv1d_23 (Conv1D)              (None, 1024, 128)    49280       activation_22[0][0]              \n",
      "__________________________________________________________________________________________________\n",
      "batch_normalization_23 (BatchNo (None, 1024, 128)    512         conv1d_23[0][0]                  \n",
      "__________________________________________________________________________________________________\n",
      "shortcut_conv1d_2 (Conv1D)      (None, 512, 128)     16512       activation_21[0][0]              \n",
      "__________________________________________________________________________________________________\n",
      "pool_2 (KMaxPooling)            (None, 512, 128)     0           batch_normalization_23[0][0]     \n",
      "__________________________________________________________________________________________________\n",
      "shortcut_batch_normalization_2  (None, 512, 128)     512         shortcut_conv1d_2[0][0]          \n",
      "__________________________________________________________________________________________________\n",
      "add_10 (Add)                    (None, 512, 128)     0           pool_2[0][0]                     \n",
      "                                                                 shortcut_batch_normalization_2[0]\n",
      "__________________________________________________________________________________________________\n",
      "activation_23 (Activation)      (None, 512, 128)     0           add_10[0][0]                     \n",
      "__________________________________________________________________________________________________\n",
      "1_1_conv_2 (Conv1D)             (None, 512, 256)     33024       activation_23[0][0]              \n",
      "__________________________________________________________________________________________________\n",
      "1_1_batch_normalization_2 (Batc (None, 512, 256)     1024        1_1_conv_2[0][0]                 \n",
      "__________________________________________________________________________________________________\n",
      "conv1d_24 (Conv1D)              (None, 512, 256)     196864      1_1_batch_normalization_2[0][0]  \n",
      "__________________________________________________________________________________________________\n",
      "batch_normalization_24 (BatchNo (None, 512, 256)     1024        conv1d_24[0][0]                  \n",
      "__________________________________________________________________________________________________\n",
      "activation_24 (Activation)      (None, 512, 256)     0           batch_normalization_24[0][0]     \n",
      "__________________________________________________________________________________________________\n",
      "conv1d_25 (Conv1D)              (None, 512, 256)     196864      activation_24[0][0]              \n",
      "__________________________________________________________________________________________________\n",
      "batch_normalization_25 (BatchNo (None, 512, 256)     1024        conv1d_25[0][0]                  \n",
      "__________________________________________________________________________________________________\n",
      "add_11 (Add)                    (None, 512, 256)     0           batch_normalization_25[0][0]     \n",
      "                                                                 1_1_batch_normalization_2[0][0]  \n",
      "__________________________________________________________________________________________________\n",
      "activation_25 (Activation)      (None, 512, 256)     0           add_11[0][0]                     \n",
      "__________________________________________________________________________________________________\n",
      "conv1d_26 (Conv1D)              (None, 512, 256)     196864      activation_25[0][0]              \n",
      "__________________________________________________________________________________________________\n",
      "batch_normalization_26 (BatchNo (None, 512, 256)     1024        conv1d_26[0][0]                  \n",
      "__________________________________________________________________________________________________\n",
      "activation_26 (Activation)      (None, 512, 256)     0           batch_normalization_26[0][0]     \n",
      "__________________________________________________________________________________________________\n",
      "conv1d_27 (Conv1D)              (None, 512, 256)     196864      activation_26[0][0]              \n",
      "__________________________________________________________________________________________________\n",
      "batch_normalization_27 (BatchNo (None, 512, 256)     1024        conv1d_27[0][0]                  \n",
      "__________________________________________________________________________________________________\n",
      "shortcut_conv1d_3 (Conv1D)      (None, 256, 256)     65792       activation_25[0][0]              \n",
      "__________________________________________________________________________________________________\n",
      "pool_3 (KMaxPooling)            (None, 256, 256)     0           batch_normalization_27[0][0]     \n",
      "__________________________________________________________________________________________________\n",
      "shortcut_batch_normalization_3  (None, 256, 256)     1024        shortcut_conv1d_3[0][0]          \n",
      "__________________________________________________________________________________________________\n",
      "add_12 (Add)                    (None, 256, 256)     0           pool_3[0][0]                     \n",
      "                                                                 shortcut_batch_normalization_3[0]\n",
      "__________________________________________________________________________________________________\n",
      "activation_27 (Activation)      (None, 256, 256)     0           add_12[0][0]                     \n",
      "__________________________________________________________________________________________________\n",
      "1_1_conv_3 (Conv1D)             (None, 256, 512)     131584      activation_27[0][0]              \n",
      "__________________________________________________________________________________________________\n",
      "1_1_batch_normalization_3 (Batc (None, 256, 512)     2048        1_1_conv_3[0][0]                 \n",
      "__________________________________________________________________________________________________\n",
      "conv1d_28 (Conv1D)              (None, 256, 512)     786944      1_1_batch_normalization_3[0][0]  \n",
      "__________________________________________________________________________________________________\n",
      "batch_normalization_28 (BatchNo (None, 256, 512)     2048        conv1d_28[0][0]                  \n",
      "__________________________________________________________________________________________________\n",
      "activation_28 (Activation)      (None, 256, 512)     0           batch_normalization_28[0][0]     \n",
      "__________________________________________________________________________________________________\n",
      "conv1d_29 (Conv1D)              (None, 256, 512)     786944      activation_28[0][0]              \n",
      "__________________________________________________________________________________________________\n",
      "batch_normalization_29 (BatchNo (None, 256, 512)     2048        conv1d_29[0][0]                  \n",
      "__________________________________________________________________________________________________\n",
      "add_13 (Add)                    (None, 256, 512)     0           batch_normalization_29[0][0]     \n",
      "                                                                 1_1_batch_normalization_3[0][0]  \n",
      "__________________________________________________________________________________________________\n",
      "activation_29 (Activation)      (None, 256, 512)     0           add_13[0][0]                     \n",
      "__________________________________________________________________________________________________\n",
      "conv1d_30 (Conv1D)              (None, 256, 512)     786944      activation_29[0][0]              \n",
      "__________________________________________________________________________________________________\n",
      "batch_normalization_30 (BatchNo (None, 256, 512)     2048        conv1d_30[0][0]                  \n",
      "__________________________________________________________________________________________________\n",
      "activation_30 (Activation)      (None, 256, 512)     0           batch_normalization_30[0][0]     \n",
      "__________________________________________________________________________________________________\n",
      "conv1d_31 (Conv1D)              (None, 256, 512)     786944      activation_30[0][0]              \n",
      "__________________________________________________________________________________________________\n",
      "batch_normalization_31 (BatchNo (None, 256, 512)     2048        conv1d_31[0][0]                  \n",
      "__________________________________________________________________________________________________\n",
      "activation_31 (Activation)      (None, 256, 512)     0           batch_normalization_31[0][0]     \n",
      "__________________________________________________________________________________________________\n",
      "k_max_pooling_1 (KMaxPooling)   (None, 8, 512)       0           activation_31[0][0]              \n",
      "__________________________________________________________________________________________________\n",
      "flatten_1 (Flatten)             (None, 4096)         0           k_max_pooling_1[0][0]            \n",
      "__________________________________________________________________________________________________\n",
      "dense_3 (Dense)                 (None, 2048)         8390656     flatten_1[0][0]                  \n",
      "__________________________________________________________________________________________________\n",
      "dense_4 (Dense)                 (None, 2048)         4196352     dense_3[0][0]                    \n",
      "__________________________________________________________________________________________________\n",
      "dense_5 (Dense)                 (None, 3)            6147        dense_4[0][0]                    \n",
      "==================================================================================================\n",
      "Total params: 17,628,547\n",
      "Trainable params: 17,618,179\n",
      "Non-trainable params: 10,368\n",
      "__________________________________________________________________________________________________\n"
     ]
    },
    {
     "name": "stdout",
     "output_type": "stream",
     "text": [
      "Epoch 1/25\n",
      "499/500 [============================>.] - ETA: 0s - loss: 1.1033 - accuracy: 0.7333\n",
      "Epoch 00001: val_accuracy improved from -inf to 0.80240, saving model to ./checkpoints/vdcnn_weights.ckpt\n",
      "500/500 [==============================] - 113s 225ms/step - loss: 1.1033 - accuracy: 0.7333 - val_loss: 0.5448 - val_accuracy: 0.8024\n",
      "Epoch 2/25\n",
      "499/500 [============================>.] - ETA: 0s - loss: 0.3957 - accuracy: 0.8526\n",
      "Epoch 00002: val_accuracy did not improve from 0.80240\n",
      "500/500 [==============================] - 111s 221ms/step - loss: 0.3959 - accuracy: 0.8526 - val_loss: 1.8515 - val_accuracy: 0.4694\n",
      "Epoch 3/25\n",
      "499/500 [============================>.] - ETA: 0s - loss: 0.3751 - accuracy: 0.8611\n",
      "Epoch 00003: val_accuracy improved from 0.80240 to 0.84210, saving model to ./checkpoints/vdcnn_weights.ckpt\n",
      "500/500 [==============================] - 111s 223ms/step - loss: 0.3754 - accuracy: 0.8611 - val_loss: 0.4390 - val_accuracy: 0.8421\n",
      "Epoch 4/25\n",
      "499/500 [============================>.] - ETA: 0s - loss: 0.3400 - accuracy: 0.8706\n",
      "Epoch 00004: val_accuracy did not improve from 0.84210\n",
      "500/500 [==============================] - 111s 221ms/step - loss: 0.3401 - accuracy: 0.8706 - val_loss: 0.5292 - val_accuracy: 0.8022\n",
      "Epoch 5/25\n",
      "499/500 [============================>.] - ETA: 0s - loss: 0.2964 - accuracy: 0.8830\n",
      "Epoch 00005: val_accuracy improved from 0.84210 to 0.85199, saving model to ./checkpoints/vdcnn_weights.ckpt\n",
      "500/500 [==============================] - 111s 223ms/step - loss: 0.2965 - accuracy: 0.8830 - val_loss: 0.3974 - val_accuracy: 0.8520\n",
      "Epoch 6/25\n",
      "499/500 [============================>.] - ETA: 0s - loss: 0.2680 - accuracy: 0.8967\n",
      "Epoch 00006: val_accuracy did not improve from 0.85199\n",
      "500/500 [==============================] - 111s 222ms/step - loss: 0.2680 - accuracy: 0.8967 - val_loss: 0.4358 - val_accuracy: 0.8428\n",
      "Epoch 7/25\n",
      "499/500 [============================>.] - ETA: 0s - loss: 0.2380 - accuracy: 0.9060\n",
      "Epoch 00007: val_accuracy did not improve from 0.85199\n",
      "500/500 [==============================] - 111s 222ms/step - loss: 0.2382 - accuracy: 0.9060 - val_loss: 0.4342 - val_accuracy: 0.8357\n",
      "Epoch 8/25\n",
      "499/500 [============================>.] - ETA: 0s - loss: 0.2187 - accuracy: 0.9144\n",
      "Epoch 00008: val_accuracy did not improve from 0.85199\n",
      "500/500 [==============================] - 111s 221ms/step - loss: 0.2189 - accuracy: 0.9143 - val_loss: 0.5060 - val_accuracy: 0.8347\n",
      "Epoch 9/25\n",
      "499/500 [============================>.] - ETA: 0s - loss: 0.1954 - accuracy: 0.9238\n",
      "Epoch 00009: val_accuracy did not improve from 0.85199\n",
      "500/500 [==============================] - 111s 221ms/step - loss: 0.1956 - accuracy: 0.9238 - val_loss: 1.6058 - val_accuracy: 0.5401\n",
      "Epoch 10/25\n",
      "499/500 [============================>.] - ETA: 0s - loss: 0.1790 - accuracy: 0.9292\n",
      "Epoch 00010: val_accuracy did not improve from 0.85199\n",
      "500/500 [==============================] - 110s 221ms/step - loss: 0.1794 - accuracy: 0.9291 - val_loss: 0.9551 - val_accuracy: 0.7963\n",
      "Epoch 11/25\n",
      "499/500 [============================>.] - ETA: 0s - loss: 0.1839 - accuracy: 0.9291\n",
      "Epoch 00011: val_accuracy did not improve from 0.85199\n",
      "500/500 [==============================] - 111s 221ms/step - loss: 0.1839 - accuracy: 0.9291 - val_loss: 0.5948 - val_accuracy: 0.8360\n",
      "Epoch 12/25\n",
      "499/500 [============================>.] - ETA: 0s - loss: 0.1389 - accuracy: 0.9460\n",
      "Epoch 00012: val_accuracy did not improve from 0.85199\n",
      "500/500 [==============================] - 111s 221ms/step - loss: 0.1396 - accuracy: 0.9459 - val_loss: 1.1794 - val_accuracy: 0.7643\n",
      "Epoch 13/25\n",
      "499/500 [============================>.] - ETA: 0s - loss: 0.2340 - accuracy: 0.9120\n",
      "Epoch 00013: val_accuracy did not improve from 0.85199\n",
      "500/500 [==============================] - 110s 221ms/step - loss: 0.2340 - accuracy: 0.9120 - val_loss: 4.6358 - val_accuracy: 0.3759\n",
      "Epoch 14/25\n",
      "499/500 [============================>.] - ETA: 0s - loss: 0.1675 - accuracy: 0.9359\n",
      "Epoch 00014: val_accuracy did not improve from 0.85199\n",
      "500/500 [==============================] - 111s 222ms/step - loss: 0.1683 - accuracy: 0.9358 - val_loss: 0.8434 - val_accuracy: 0.7120\n",
      "Epoch 15/25\n",
      "499/500 [============================>.] - ETA: 0s - loss: 0.1353 - accuracy: 0.9481\n",
      "Epoch 00015: val_accuracy did not improve from 0.85199\n",
      "500/500 [==============================] - 111s 221ms/step - loss: 0.1359 - accuracy: 0.9480 - val_loss: 0.7702 - val_accuracy: 0.7893\n",
      "Epoch 16/25\n",
      "499/500 [============================>.] - ETA: 0s - loss: 0.1395 - accuracy: 0.9475\n",
      "Epoch 00016: val_accuracy did not improve from 0.85199\n",
      "500/500 [==============================] - 111s 222ms/step - loss: 0.1396 - accuracy: 0.9475 - val_loss: 2.0684 - val_accuracy: 0.5465\n",
      "Epoch 17/25\n",
      "499/500 [============================>.] - ETA: 0s - loss: 0.1449 - accuracy: 0.9445\n",
      "Epoch 00017: val_accuracy did not improve from 0.85199\n",
      "500/500 [==============================] - 111s 222ms/step - loss: 0.1449 - accuracy: 0.9445 - val_loss: 1.1351 - val_accuracy: 0.7403\n",
      "Epoch 18/25\n",
      "499/500 [============================>.] - ETA: 0s - loss: 0.1014 - accuracy: 0.9597\n",
      "Epoch 00018: val_accuracy did not improve from 0.85199\n",
      "500/500 [==============================] - 111s 222ms/step - loss: 0.1014 - accuracy: 0.9597 - val_loss: 1.0404 - val_accuracy: 0.8380\n",
      "Epoch 19/25\n",
      "499/500 [============================>.] - ETA: 0s - loss: 0.0718 - accuracy: 0.9714\n",
      "Epoch 00019: val_accuracy did not improve from 0.85199\n",
      "500/500 [==============================] - 110s 220ms/step - loss: 0.0718 - accuracy: 0.9714 - val_loss: 1.0846 - val_accuracy: 0.7308\n",
      "Epoch 20/25\n",
      "499/500 [============================>.] - ETA: 0s - loss: 0.0915 - accuracy: 0.9633\n",
      "Epoch 00020: val_accuracy did not improve from 0.85199\n",
      "500/500 [==============================] - 111s 222ms/step - loss: 0.0916 - accuracy: 0.9633 - val_loss: 0.6568 - val_accuracy: 0.8281\n",
      "Epoch 21/25\n",
      "499/500 [============================>.] - ETA: 0s - loss: 0.0711 - accuracy: 0.9713\n",
      "Epoch 00021: val_accuracy did not improve from 0.85199\n",
      "500/500 [==============================] - 111s 222ms/step - loss: 0.0711 - accuracy: 0.9713 - val_loss: 0.9089 - val_accuracy: 0.8233\n",
      "Epoch 22/25\n",
      "499/500 [============================>.] - ETA: 0s - loss: 0.0579 - accuracy: 0.9763\n",
      "Epoch 00022: val_accuracy did not improve from 0.85199\n",
      "500/500 [==============================] - 111s 223ms/step - loss: 0.0616 - accuracy: 0.9762 - val_loss: 2.5025 - val_accuracy: 0.7915\n",
      "Epoch 23/25\n",
      "499/500 [============================>.] - ETA: 0s - loss: 0.1509 - accuracy: 0.9429\n",
      "Epoch 00023: val_accuracy did not improve from 0.85199\n",
      "500/500 [==============================] - 111s 222ms/step - loss: 0.1509 - accuracy: 0.9429 - val_loss: 0.5780 - val_accuracy: 0.8431\n",
      "Epoch 24/25\n",
      "499/500 [============================>.] - ETA: 0s - loss: 0.0656 - accuracy: 0.9737\n",
      "Epoch 00024: val_accuracy did not improve from 0.85199\n",
      "500/500 [==============================] - 111s 222ms/step - loss: 0.0657 - accuracy: 0.9737 - val_loss: 1.3565 - val_accuracy: 0.7670\n",
      "Epoch 25/25\n",
      "499/500 [============================>.] - ETA: 0s - loss: 0.0695 - accuracy: 0.9730\n",
      "Epoch 00025: val_accuracy did not improve from 0.85199\n",
      "500/500 [==============================] - 111s 222ms/step - loss: 0.0700 - accuracy: 0.9729 - val_loss: 1.3886 - val_accuracy: 0.7616\n",
      "------------------------------\n",
      "2020-12-06 16_13_14: Done training.\n",
      "------------------------------\n"
     ]
    }
   ],
   "source": [
    "def train(x_train, y_train):\n",
    "    \n",
    "    # Init Keras Model here\n",
    "    model = VDCNN(num_classes=3, \n",
    "                  sequence_length=2048,\n",
    "                  shortcut=True,\n",
    "                  pool_type='k_max', \n",
    "                  sorted=False, \n",
    "                  use_bias=False, embedding_dim=256, depth=17)\n",
    "    \n",
    "    # SGD(lr=0.006, momentum=0.99), adam\n",
    "    model.compile(optimizer='adam', loss='categorical_crossentropy', metrics=['accuracy'])\n",
    "    model.summary()\n",
    "\n",
    "    # Trainer\n",
    "    # Tensorboard and extra callback to support steps history\n",
    "    # tensorboard = TensorBoard(log_dir='./logs', histogram_freq=50, write_graph=True, write_images=True)\n",
    "    checkpoint_path = \"./checkpoints/vdcnn_weights.ckpt\"\n",
    "    checkpointer = ModelCheckpoint(filepath=checkpoint_path, #period=1,\n",
    "                                   verbose=10, save_best_only=True, save_weights_only=True, \n",
    "                                   mode='max', monitor='val_accuracy')\n",
    "    \n",
    "    # loss_history = custom_callbacks.loss_history(model, tensorboard)\n",
    "    # evaluate_step = custom_callbacks.evaluate_step(model, checkpointer, 100, BATCH_SIZE, x_test, y_test)\n",
    "\n",
    "    # Fit model\n",
    "    model.fit(x_train, y_train, batch_size=64, epochs=25, validation_split=0.2, \n",
    "              verbose=1, callbacks=[checkpointer])\n",
    "    print('-'*30)\n",
    "    time_str = datetime.now().strftime('%Y-%m-%d %H_%M_%S')\n",
    "    print(f'{time_str}: Done training.')\n",
    "    K.clear_session()\n",
    "    \n",
    "    model.load_weights(checkpoint_path)\n",
    "    return model\n",
    "\n",
    "if __name__=='__main__':\n",
    "    \n",
    "    model = train(x_train=pad_X_train, y_train=del_y_train)\n",
    "    model.save('vdcnn_try.h5')"
   ]
  },
  {
   "cell_type": "code",
   "execution_count": 31,
   "metadata": {},
   "outputs": [
    {
     "data": {
      "text/html": [
       "<div>\n",
       "<style scoped>\n",
       "    .dataframe tbody tr th:only-of-type {\n",
       "        vertical-align: middle;\n",
       "    }\n",
       "\n",
       "    .dataframe tbody tr th {\n",
       "        vertical-align: top;\n",
       "    }\n",
       "\n",
       "    .dataframe thead th {\n",
       "        text-align: right;\n",
       "    }\n",
       "</style>\n",
       "<table border=\"1\" class=\"dataframe\">\n",
       "  <thead>\n",
       "    <tr style=\"text-align: right;\">\n",
       "      <th></th>\n",
       "      <th>index</th>\n",
       "      <th>category</th>\n",
       "    </tr>\n",
       "  </thead>\n",
       "  <tbody>\n",
       "    <tr>\n",
       "      <th>0</th>\n",
       "      <td>0</td>\n",
       "      <td>0</td>\n",
       "    </tr>\n",
       "    <tr>\n",
       "      <th>1</th>\n",
       "      <td>1</td>\n",
       "      <td>2</td>\n",
       "    </tr>\n",
       "    <tr>\n",
       "      <th>2</th>\n",
       "      <td>2</td>\n",
       "      <td>1</td>\n",
       "    </tr>\n",
       "    <tr>\n",
       "      <th>3</th>\n",
       "      <td>3</td>\n",
       "      <td>0</td>\n",
       "    </tr>\n",
       "    <tr>\n",
       "      <th>4</th>\n",
       "      <td>4</td>\n",
       "      <td>2</td>\n",
       "    </tr>\n",
       "  </tbody>\n",
       "</table>\n",
       "</div>"
      ],
      "text/plain": [
       "   index  category\n",
       "0      0         0\n",
       "1      1         2\n",
       "2      2         1\n",
       "3      3         0\n",
       "4      4         2"
      ]
     },
     "execution_count": 31,
     "metadata": {},
     "output_type": "execute_result"
    }
   ],
   "source": [
    "# model = load_model('vdcnn_try.h5')\n",
    "y_pred = model.predict(pad_X_test)\n",
    "sample_submission = pd.read_csv('./data_in/sample_submission.csv')\n",
    "sample_submission['category'] = np.argmax(y_pred, axis=-1)\n",
    "sample_submission.head()"
   ]
  },
  {
   "cell_type": "code",
   "execution_count": 32,
   "metadata": {},
   "outputs": [],
   "source": [
    "sample_submission.to_csv('submission_'+ datetime.now().strftime('%Y-%m-%d %H_%M_%S') + '.csv', encoding='utf-8', index=False)"
   ]
  },
  {
   "cell_type": "code",
   "execution_count": null,
   "metadata": {},
   "outputs": [],
   "source": []
  },
  {
   "cell_type": "code",
   "execution_count": null,
   "metadata": {},
   "outputs": [],
   "source": []
  },
  {
   "cell_type": "code",
   "execution_count": null,
   "metadata": {},
   "outputs": [],
   "source": []
  }
 ],
 "metadata": {
  "kernelspec": {
   "display_name": "Environment (conda_tf2_37)",
   "language": "python",
   "name": "conda_tf2_37"
  },
  "language_info": {
   "codemirror_mode": {
    "name": "ipython",
    "version": 3
   },
   "file_extension": ".py",
   "mimetype": "text/x-python",
   "name": "python",
   "nbconvert_exporter": "python",
   "pygments_lexer": "ipython3",
   "version": "3.7.9"
  }
 },
 "nbformat": 4,
 "nbformat_minor": 2
}
