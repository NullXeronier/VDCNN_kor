{
 "cells": [
  {
   "cell_type": "code",
   "execution_count": null,
   "metadata": {
    "collapsed": true
   },
   "outputs": [],
   "source": [
    "import numpy as np\n",
    "import pandas as pd\n",
    "import re\n",
    "import json\n",
    "import keras.backend as K\n",
    "from keras.callbacks import ModelCheckpoint, TensorBoard\n",
    "from keras.optimizers import SGD\n",
    "import custom_callbacks\n",
    "from vdcnn import *\n",
    "from datetime import datetime\n",
    "from sklearn.model_selection import train_test_split"
   ]
  },
  {
   "cell_type": "code",
   "execution_count": null,
   "outputs": [],
   "source": [
    "DATA_IN_PATH = './data_in/'\n",
    "DATA_OUT_PATH = './data_out/'\n",
    "INPUT_TRAIN_DATA = 'train_input.npy'\n",
    "INPUT_LABEL_DATA = 'train_label.npy'\n",
    "DATA_CONFIGS = 'config_data.json'\n",
    "\n",
    "input_data = np.load(open(DATA_IN_PATH + INPUT_TRAIN_DATA, 'rb'))\n",
    "input_label = np.load(open(DATA_IN_PATH + INPUT_LABEL_DATA, 'rb'))\n",
    "pre_config = json.load(open(DATA_IN_PATH + DATA_CONFIGS, 'r'))\n",
    "\n"
   ],
   "metadata": {
    "collapsed": false,
    "pycharm": {
     "name": "#%%\n"
    }
   }
  },
  {
   "cell_type": "code",
   "execution_count": null,
   "outputs": [],
   "source": [
    "TEST_SPLIT = 0.2\n",
    "SEED = 42\n",
    "VOCAB_SIZE = pre_config['vocab_size']+1\n",
    "EMB_SIZE = 256\n",
    "BATCH_SIZE = 16\n",
    "NUM_EPOCH = 100\n",
    "# x data y label\n",
    "X_train, X_test, Y_train, Y_test = train_test_split(input_data, input_label, test_size=TEST_SPLIT, random_state=SEED)\n"
   ],
   "metadata": {
    "collapsed": false,
    "pycharm": {
     "name": "#%%\n"
    }
   }
  },
  {
   "cell_type": "code",
   "execution_count": null,
   "outputs": [],
   "source": [
    "def train(x_train, y_train, x_test, y_test):\n",
    "\n",
    "    # Init Keras Model here\n",
    "    model = VDCNN(num_classes=3,\n",
    "                  sequence_length=512,\n",
    "                  shortcut=False,\n",
    "                  pool_type='max',\n",
    "                  sorted=False,\n",
    "                  use_bias=False,embedding_dim=EMB_SIZE)\n",
    "\n",
    "    model.compile(optimizer=SGD(lr=0.01, momentum=0.9), loss='categorical_crossentropy', metrics=['accuracy'])\n",
    "\n",
    "    model_json = model.to_json()\n",
    "    with open(\"vdcnn_model.json\",\"w\") as json_file:\n",
    "        json_file.write(model_json)                    # Save model architecture\n",
    "    time_str = datetime.now().isoformat()\n",
    "    print(\"{}: Model saved as json.\".format(time_str))\n",
    "    print(\"\")\n",
    "\n",
    "    # Trainer\n",
    "    # Tensorboard and extra callback to support steps history\n",
    "    tensorboard = TensorBoard(log_dir='./logs', histogram_freq=50, batch_size=BATCH_SIZE, write_graph=True, write_images=True)\n",
    "    checkpointer = ModelCheckpoint(filepath=\"./checkpoints/vdcnn_weights_val_acc_{val_acc:.4f}.h5\", period=1,\n",
    "                                   verbose=1, save_best_only=True, mode='max', monitor='val_acc')\n",
    "    loss_history = custom_callbacks.loss_history(model, tensorboard)\n",
    "    evaluate_step = custom_callbacks.evaluate_step(model, checkpointer, tensorboard, 100, BATCH_SIZE, x_test, y_test)\n",
    "\n",
    "    # Fit model\n",
    "    model.fit(x_train, y_train, batch_size=BATCH_SIZE, epochs=NUM_EPOCH, validation_data=(x_test, y_test),\n",
    "              verbose=1, callbacks=[checkpointer, tensorboard, loss_history, evaluate_step])\n",
    "    print('-'*30)\n",
    "    time_str = datetime.now().isoformat()\n",
    "    print(\"{}: Done training.\".format(time_str))\n",
    "    K.clear_session()\n",
    "    print('-'*30)\n",
    "    print()\n",
    "\n",
    "if __name__=='__main__':\n",
    "    train(x_train=X_train, y_train=Y_train, x_test=X_test, y_test=Y_test)\n",
    "\n"
   ],
   "metadata": {
    "collapsed": false,
    "pycharm": {
     "name": "#%%\n"
    }
   }
  }
 ],
 "metadata": {
  "kernelspec": {
   "display_name": "Python 3",
   "language": "python",
   "name": "python3"
  },
  "language_info": {
   "codemirror_mode": {
    "name": "ipython",
    "version": 2
   },
   "file_extension": ".py",
   "mimetype": "text/x-python",
   "name": "python",
   "nbconvert_exporter": "python",
   "pygments_lexer": "ipython2",
   "version": "2.7.6"
  }
 },
 "nbformat": 4,
 "nbformat_minor": 0
}